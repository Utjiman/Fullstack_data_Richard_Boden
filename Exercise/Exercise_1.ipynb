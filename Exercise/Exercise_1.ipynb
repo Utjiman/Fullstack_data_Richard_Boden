{
 "cells": [
  {
   "cell_type": "code",
   "execution_count": 12,
   "metadata": {},
   "outputs": [],
   "source": [
    "#1 a)\n",
    "\n",
    "\n",
    "data = [\n",
    "{\"employeeID\": 0, \"name\": \"Alice\", \"department\": \"HR\", \"salary\": 31000},\n",
    "{\"employeeID\": 1, \"name\": \"Bob\", \"department\": \"IT\", \"salary\": 41000},\n",
    "{\"employeeID\": 2, \"name\": \"Charlie\", \"department\": \"HR\", \"salary\": 28000}]\n"
   ]
  },
  {
   "cell_type": "code",
   "execution_count": 13,
   "metadata": {},
   "outputs": [
    {
     "data": {
      "text/plain": [
       "{'employeeID': 1, 'name': 'Bob', 'department': 'IT', 'salary': 41000}"
      ]
     },
     "execution_count": 13,
     "metadata": {},
     "output_type": "execute_result"
    }
   ],
   "source": [
    "#b)\n",
    "\n",
    "data[1]"
   ]
  },
  {
   "cell_type": "code",
   "execution_count": 14,
   "metadata": {},
   "outputs": [
    {
     "name": "stdout",
     "output_type": "stream",
     "text": [
      "Alice works in department HR and earns 31000.\n",
      "Bob works in department IT and earns 41000.\n",
      "Charlie works in department HR and earns 28000.\n"
     ]
    }
   ],
   "source": [
    "#c)\n",
    "\n",
    "for employee in data:\n",
    "    result = f\"{employee['name']} works in department {employee['department']} and earns {employee['salary']}.\"\n",
    "    print(result)\n"
   ]
  },
  {
   "cell_type": "code",
   "execution_count": 15,
   "metadata": {},
   "outputs": [
    {
     "name": "stdout",
     "output_type": "stream",
     "text": [
      "medelvärdet av lönerna är 33333.333333333336\n"
     ]
    }
   ],
   "source": [
    "#d) Find out the avarage salary in the company\n",
    "\n",
    "# Ta ut alla löner från dictionaries och lägger dem i en lista (salarries)\n",
    "salarries = [employee['salary'] for employee in data]\n",
    "\n",
    "# Beräkna medelvärdet av lönerna\n",
    "avarage_salary = sum(salarries) / len(salarries)\n",
    "\n",
    "print(f\"medelvärdet av lönerna är {avarage_salary}\")"
   ]
  },
  {
   "cell_type": "code",
   "execution_count": 16,
   "metadata": {},
   "outputs": [
    {
     "data": {
      "text/plain": [
       "29500.0"
      ]
     },
     "execution_count": 16,
     "metadata": {},
     "output_type": "execute_result"
    }
   ],
   "source": [
    "#e) avarage salary in the hr department\n",
    "\n",
    "selected_dep = \"HR\"\n",
    "\n",
    "# Ta ut lönerna för de anställda i den valda avdelningen\n",
    "salaries = [employee['salary'] for employee in data if employee['department'] == selected_dep]\n",
    "\n",
    "hr_avarage = sum(salaries) / len(salaries)\n",
    "\n",
    "hr_avarage\n"
   ]
  },
  {
   "cell_type": "code",
   "execution_count": 17,
   "metadata": {},
   "outputs": [
    {
     "data": {
      "text/plain": [
       "[{'employeeID': 0, 'name': 'Alice', 'department': 'HR', 'salary': 31000},\n",
       " {'employeeID': 2, 'name': 'Charlie', 'department': 'HR', 'salary': 28000}]"
      ]
     },
     "execution_count": 17,
     "metadata": {},
     "output_type": "execute_result"
    }
   ],
   "source": [
    "#f) extract all records where the department is HR\n",
    "\n",
    "# skapar en ny lista hr_employees som bara innehåller dictionaries där department är \"HR\".\n",
    "hr_employees = [employee for employee in data if employee['department'] == 'HR']\n",
    "hr_employees\n"
   ]
  },
  {
   "cell_type": "code",
   "execution_count": 18,
   "metadata": {},
   "outputs": [
    {
     "data": {
      "text/plain": [
       "{'HR', 'IT'}"
      ]
     },
     "execution_count": 18,
     "metadata": {},
     "output_type": "execute_result"
    }
   ],
   "source": [
    "#g)\n",
    "\n",
    "# employee['department'] for employee in data} skapar en mängd (set) med alla unika department-värden från listan data. Mängder lagrar bara unika värden, så dubbletter filtreras automatiskt bort.\n",
    "\n",
    "unique_dep = {employee['department'] for employee in data}\n",
    "unique_dep"
   ]
  },
  {
   "cell_type": "code",
   "execution_count": 19,
   "metadata": {},
   "outputs": [
    {
     "name": "stdout",
     "output_type": "stream",
     "text": [
      "{'employeeID': 0, 'name': 'Alice', 'department': 'HR', 'salary': 31000, 'age': 26}\n",
      "{'employeeID': 1, 'name': 'Bob', 'department': 'IT', 'salary': 41000, 'age': 37}\n",
      "{'employeeID': 2, 'name': 'Charlie', 'department': 'HR', 'salary': 28000, 'age': None}\n"
     ]
    }
   ],
   "source": [
    "#h)\n",
    "\n",
    "# Lägg till en ny kolumn 'age' med specifika värden\n",
    "\n",
    "# enumerate(data): Denna funktion returnerar både index och dictionary för varje element i listan data.\n",
    "# If-sats: Beroende på indexet sätts värdet för nyckeln \"age\" till 26, 37 eller None\n",
    "\n",
    "for index, employee in enumerate(data):\n",
    "    if index == 0:\n",
    "        employee['age'] = 26\n",
    "    elif index == 1:\n",
    "        employee['age'] = 37\n",
    "    else:\n",
    "        employee['age'] = None\n",
    "\n",
    "for employee in data:\n",
    "    print(employee)"
   ]
  },
  {
   "cell_type": "code",
   "execution_count": 20,
   "metadata": {},
   "outputs": [
    {
     "name": "stdout",
     "output_type": "stream",
     "text": [
      "{'employeeID': 0, 'name': 'Alice', 'department': 'HR', 'salary': 31000, 'age': 26}\n",
      "{'employeeID': 1, 'name': 'Bob', 'department': 'IT', 'salary': 41000, 'age': 37}\n",
      "{'employeeID': 2, 'name': 'Charlie', 'department': 'HR', 'salary': 28000, 'age': None}\n",
      "{'employeeID': 3, 'name': 'David', 'department': 'IT', 'salary': 35000, 'age': 30}\n"
     ]
    }
   ],
   "source": [
    "#i)\n",
    "\n",
    "def add_personel(employeeID, name, department, salary, age=None):\n",
    "     # Skapa en ny dictionary för den nya medarbetaren\n",
    "     new_employee = {\n",
    "        \"employeeID\": employeeID,\n",
    "        \"name\": name,\n",
    "        \"department\": department,\n",
    "        \"salary\": salary,\n",
    "        \"age\": age\n",
    "    }\n",
    "     # Lägg till den nya medarbetaren i listan\n",
    "     data.append(new_employee)\n",
    "\n",
    "# Lägg till en ny medarbetare\n",
    "add_personel(3,\"David\", \"IT\", 35000, 30)\n",
    "\n",
    "for employee in data:\n",
    "     print(employee)\n"
   ]
  },
  {
   "cell_type": "code",
   "execution_count": 21,
   "metadata": {},
   "outputs": [
    {
     "name": "stdout",
     "output_type": "stream",
     "text": [
      "Pikachu electric 10\n"
     ]
    }
   ],
   "source": [
    "#1 Define a Pokemon class with attributes for name, type, and level. Instantiate a pokemon named Pikachu and give it an electric type with level 10.\n",
    "\n",
    "class Pokemon:\n",
    "    def __init__(self, name: str, type_: str, level: int) -> None:\n",
    "        self.name = name\n",
    "        self.type = type_\n",
    "        self.level = level\n",
    "\n",
    "p1 = Pokemon(\"Pikachu\", \"electric\", 10)\n",
    "\n",
    "print(p1.name, p1.type, p1.level)\n"
   ]
  },
  {
   "cell_type": "code",
   "execution_count": 25,
   "metadata": {},
   "outputs": [
    {
     "name": "stdout",
     "output_type": "stream",
     "text": [
      "Pikachu attacks squritle with 20 damage!\n",
      "squritle took 20 damage and has 80 HP left.\n",
      "squritle attacks Pikachu with 12 damage!\n",
      "Pikachu took 12 damage and has 88 HP left.\n",
      "Pikachu attacks squritle with 20 damage!\n",
      "squritle took 20 damage and has 60 HP left.\n",
      "squritle attacks Pikachu with 12 damage!\n",
      "Pikachu took 12 damage and has 76 HP left.\n",
      "Pikachu attacks squritle with 20 damage!\n",
      "squritle took 20 damage and has 40 HP left.\n",
      "squritle attacks Pikachu with 12 damage!\n",
      "Pikachu took 12 damage and has 64 HP left.\n",
      "Pikachu attacks squritle with 20 damage!\n",
      "squritle took 20 damage and has 20 HP left.\n",
      "squritle attacks Pikachu with 12 damage!\n",
      "Pikachu took 12 damage and has 52 HP left.\n",
      "Pikachu attacks squritle with 20 damage!\n",
      "squritle has fainted!\n",
      "Pikachu vinner!\n"
     ]
    }
   ],
   "source": [
    "#b Implement `__str__()` method to display the Pokemon's details. Also implement a `__repr__()` method.\n",
    "\n",
    "#f)  f) To implement battling we need to do the following: \n",
    "# - add an attribute hp (healthpoints) to Pokemon class.\n",
    "# - implement a (pseudo)private method take_damage that subtracts the damage on the healthpoints\n",
    "# - implement an attack method in the Pokemon class that takes in another Pokemon as an argument. It inflicts damage on other pokemon based on its own level times 2. Print out damage taken and life points left on the pokemon. When damage exceeds the life points, the pokemon is fainted.\n",
    "\n",
    "# g) Instantiate two pokemons and let them battle until one has fainted and announce a winner. They take turns in fighting one attack at a time.\n",
    "\n",
    "\n",
    "class Pokemon:\n",
    "    def __init__(self, name: str, type_: str, level: int, hp: int) -> None:\n",
    "        self.name = name\n",
    "        self.type = type_ # använder type_ för att inte orsaka problem med pythons inbyggda metod\n",
    "        self.level = level\n",
    "        self.hp = hp\n",
    "    \n",
    "    # Returnerar en användarvänlig strängrepresentation som är lätt att läsa. Används t.ex. när du skriver ut objektet med print.\n",
    "    def __str__(self):\n",
    "        return f\"{self.name} {self.type} {self.level} {self.hp}\"\n",
    "\n",
    "    # Returnerar en mer detaljerad och formell strängrepresentation som kan användas för att skapa objektet igen. Används främst för felsökning och vid utveckling.\n",
    "    def __repr__(self):\n",
    "        return f\"Pokemon(name='{self.name}', type_='{self.type}', level={self.level}, hp={self.hp})\"\n",
    "\n",
    "    def __take_damage(self, damage: int) -> None:\n",
    "        if damage > 0:\n",
    "            self.hp -= damage\n",
    "            if self.hp < 0:\n",
    "                self.hp = 0\n",
    "                \n",
    "    \n",
    "    def attack(self, other_pokemon: Pokemon) -> None:\n",
    "        # Beräkna skada baserat på Pokémon nivå\n",
    "        damage = self.level * 2\n",
    "        \n",
    "        # Skriv ut detaljer om attacken\n",
    "        print(f\"{self.name} attacks {other_pokemon.name} with {damage} damage!\")\n",
    "\n",
    "        # skada på den attackerade Pokémon\n",
    "        other_pokemon.__take_damage(damage)\n",
    "\n",
    "        # Skriv ut skadan och återstående HP\n",
    "        if other_pokemon.hp == 0:\n",
    "            print(f\"{other_pokemon.name} has fainted!\")\n",
    "        else:\n",
    "            print(f\"{other_pokemon.name} took {damage} damage and has {other_pokemon.hp} HP left.\")\n",
    "\n",
    "    def battle(pokemon1: Pokemon, pokemon2: Pokemon) -> None:\n",
    "    \n",
    "        turn = 0  # Bestäm vilken Pokémon som ska attackera\n",
    "        \n",
    "        while pokemon1.hp > 0 and pokemon2.hp > 0:\n",
    "            if turn % 2 == 0:\n",
    "                # Pokémon 1 attackerar Pokémon 2\n",
    "                pokemon1.attack(pokemon2)\n",
    "            else:\n",
    "                # Pokémon 2 attackerar Pokémon 1\n",
    "                pokemon2.attack(pokemon1)\n",
    "            \n",
    "            turn += 1  # Byt tur\n",
    "        \n",
    "        # Tillkännage vinnaren\n",
    "        if pokemon1.hp > 0:\n",
    "            print(f\"{pokemon1.name} vinner!\")\n",
    "        else:\n",
    "            print(f\"{pokemon2.name} vinner!\")     \n",
    "\n",
    "\n",
    "p1 = Pokemon(\"Pikachu\", \"electric\", 10, 100)\n",
    "p2 = Pokemon(\"squritle\", \"water\", 6, 100)\n",
    "\n",
    "p1.attack(p2)\n",
    "Pokemon.battle(p2, p1)"
   ]
  },
  {
   "cell_type": "code",
   "execution_count": null,
   "metadata": {},
   "outputs": [
    {
     "name": "stdout",
     "output_type": "stream",
     "text": [
      "Squirtle water 5 20\n",
      "Squirtle splashes some water\n"
     ]
    }
   ],
   "source": [
    "#c ) Create a subclass WaterPokemon that inherits from Pokemon and add a unique method splash. This method prints out the pokemons name and that it splashes some water.\n",
    "\n",
    "\n",
    "# Definiera en subklass WaterPokemon som ärver från Pokemon\n",
    "class WaterPokemon(Pokemon):        \n",
    "    # Anropa bas-klassens __init__ metod för att initialisera arvda attribut    \n",
    "    def __init__(self, name: str, type_: str, level: int, hp: int) -> None:\n",
    "        super().__init__(name, type_, level, hp)\n",
    "\n",
    "    def splash(self) -> None:\n",
    "        print(f\"{self.name} splashes some water\")\n",
    "\n",
    "p2 = WaterPokemon(\"Squirtle\", \"water\", 5, 20)\n",
    "\n",
    "print(p2)\n",
    "p2.splash()\n",
    "\n"
   ]
  },
  {
   "cell_type": "code",
   "execution_count": null,
   "metadata": {},
   "outputs": [
    {
     "name": "stdout",
     "output_type": "stream",
     "text": [
      "Squirtle1 water 10\n",
      "Squirtle2 water 8\n",
      "Polywag1 water 15\n",
      "Polywag1 splashes some water\n"
     ]
    }
   ],
   "source": [
    "#d) d) Now instantiate two Squirtles and a Polywag. Squirtles and Polywags are of type WaterPokemon.\n",
    "\n",
    "Squirtle1 = WaterPokemon(\"Squirtle1\", \"water\", 10)\n",
    "Squirtle2 = WaterPokemon(\"Squirtle2\", \"water\", 8)\n",
    "Polywag = WaterPokemon(\"Polywag1\", \"water\", 15)\n",
    "\n",
    "print(Squirtle1)\n",
    "print(Squirtle2)\n",
    "print(Polywag)\n",
    "Polywag.splash()"
   ]
  },
  {
   "cell_type": "code",
   "execution_count": null,
   "metadata": {},
   "outputs": [
    {
     "name": "stdout",
     "output_type": "stream",
     "text": [
      "Pikachu electric 10\n",
      "Squirtle1 water 10\n",
      "Squirtle2 water 8\n",
      "Polywag1 water 15\n"
     ]
    }
   ],
   "source": [
    "#e) e) Loop through a tuple of all your instantiated pokemons and print them out.\n",
    "\n",
    "pokes = p1, Squirtle1, Squirtle2, Polywag\n",
    "pokes\n",
    "\n",
    "for pokemons in pokes:\n",
    "    print(pokemons)"
   ]
  },
  {
   "cell_type": "markdown",
   "metadata": {},
   "source": [
    "### 2 Analyze a log file\n",
    "\n",
    "It is common to log from different softwares and systems so that you always can go back to find out what happened, e.g. for debugging purposes. Under the data directory, there is a short log from a data engineering tool called data build tool (dbt), which is used for data transformations with SQL and jinja templating language. \n",
    "\n",
    "There seem to have been some errors during runs. You are tasked to read this log using Python and parse it to find some useful information for debugging. Print them out in a nicely formatted way. \n",
    "\n",
    "&nbsp; a) Find specific error messages and codes to understand the nature of the issues encountered.\n",
    "\n",
    "&nbsp; b) Identify timestamps when the errors happened. \n",
    "\n",
    "&nbsp; c) Find performance metrics.\n",
    "\n",
    "&nbsp; d) Find application information.\n",
    "\n",
    "&nbsp; e) Are there some other valuable information that can be extracted the log?\n"
   ]
  },
  {
   "cell_type": "code",
   "execution_count": null,
   "metadata": {},
   "outputs": [],
   "source": []
  },
  {
   "cell_type": "markdown",
   "metadata": {},
   "source": [
    "\n",
    "\n",
    "\n",
    "## 3. Theory questions\n",
    "\n",
    "These study questions are good to get an overview of how snowflake works.\n",
    "\n",
    "&nbsp; a) What is the difference between dictionary and lists?\n",
    "\n",
    "&nbsp; b) What are postional arguments in functions?\n",
    "\n",
    "&nbsp; c) What is the difference between using postional arguments and keyword arguments in functions?\n",
    "\n",
    "&nbsp; d) What is the difference between a list and a tuple?\n",
    "\n",
    "&nbsp; e) Explain the concept of Python's dynamic typing.\n",
    "\n",
    "&nbsp; f) What is the purpose behind the `__repr__()` method in a class?\n",
    "\n",
    "&nbsp; g) How does `__str__()` method differ from `__repr__()` method?\n",
    "\n",
    "&nbsp; h) Why do you want to encapsulate objects? \n",
    "\n",
    "&nbsp; i) What are the pillars of OOP?\n",
    "\n",
    "## Glossary\n",
    "\n",
    "Fill in this table either by copying this into your own markdown file or copy it into a spreadsheet if you feel that is easier to work with.\n",
    "\n",
    "| terminology              | explanation |\n",
    "| ------------------------ | ----------- |\n",
    "| dictionary               |             |\n",
    "| list                     |             |\n",
    "| record                   |             |\n",
    "| list comprehension       |             |\n",
    "| append                   |             |\n",
    "| field                    |             |\n",
    "| row                      |             |\n",
    "| column                   |             |\n",
    "| dictionary comprehension |             |\n",
    "| statement                |             |\n",
    "| argument                 |             |\n",
    "| boolean                  |             |\n",
    "| class                    |             |\n",
    "| conditional              |             |\n",
    "| exception                |             |\n",
    "| function                 |             |\n",
    "| keyword arguments        |             |\n",
    "| module                   |             |\n",
    "| object                   |             |\n",
    "| return statement         |             |\n",
    "| tuple                    |             |\n",
    "| type                     |             |\n",
    "| self                     |             |\n",
    "| instatiate               |             |\n",
    "| iterating                |             |\n",
    "| encapsulation            |             |\n",
    "|                          |             |\n",
    "|                          |             |\n",
    "|                          |             |"
   ]
  }
 ],
 "metadata": {
  "kernelspec": {
   "display_name": ".venv",
   "language": "python",
   "name": "python3"
  },
  "language_info": {
   "codemirror_mode": {
    "name": "ipython",
    "version": 3
   },
   "file_extension": ".py",
   "mimetype": "text/x-python",
   "name": "python",
   "nbconvert_exporter": "python",
   "pygments_lexer": "ipython3",
   "version": "3.11.7"
  }
 },
 "nbformat": 4,
 "nbformat_minor": 2
}

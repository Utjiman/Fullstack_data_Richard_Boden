{
 "cells": [
  {
   "cell_type": "code",
   "execution_count": 4,
   "metadata": {},
   "outputs": [
    {
     "data": {
      "text/plain": [
       "8.748906386701663"
      ]
     },
     "execution_count": 4,
     "metadata": {},
     "output_type": "execute_result"
    }
   ],
   "source": [
    "# Växla pengar\n",
    "\n",
    "def exchange_money(budget, exchange_rate):\n",
    "    money = budget / exchange_rate\n",
    "    return money\n",
    "\n",
    "# 100 sek = 8.7 euro\n",
    "exchange_money(100, 11.43) # budget, växlingskurs"
   ]
  },
  {
   "cell_type": "code",
   "execution_count": 5,
   "metadata": {},
   "outputs": [
    {
     "data": {
      "text/plain": [
       "75"
      ]
     },
     "execution_count": 5,
     "metadata": {},
     "output_type": "execute_result"
    }
   ],
   "source": [
    "#ta ut pengar\n",
    "def get_change(budget, exchanging_value):\n",
    "    left_money = budget - exchanging_value\n",
    "    return left_money\n",
    "\n",
    "get_change(100, 25)\n",
    "\n"
   ]
  },
  {
   "cell_type": "code",
   "execution_count": 7,
   "metadata": {},
   "outputs": [
    {
     "data": {
      "text/plain": [
       "768"
      ]
     },
     "execution_count": 7,
     "metadata": {},
     "output_type": "execute_result"
    }
   ],
   "source": [
    "def get_value_of_bills(denomination, numbers_of_bills):\n",
    "    bills = numbers_of_bills * denomination\n",
    "    return bills\n",
    "\n",
    "get_value_of_bills(6, 128)"
   ]
  },
  {
   "cell_type": "code",
   "execution_count": 20,
   "metadata": {},
   "outputs": [
    {
     "data": {
      "text/plain": [
       "25"
      ]
     },
     "execution_count": 20,
     "metadata": {},
     "output_type": "execute_result"
    }
   ],
   "source": [
    "def get_number_of_bills(amount, denomination):\n",
    "    numbers = amount / denomination\n",
    "    return int(numbers)\n",
    "\n",
    "get_number_of_bills(127.5, 5)"
   ]
  },
  {
   "cell_type": "code",
   "execution_count": 11,
   "metadata": {},
   "outputs": [
    {
     "data": {
      "text/plain": [
       "7.5"
      ]
     },
     "execution_count": 11,
     "metadata": {},
     "output_type": "execute_result"
    }
   ],
   "source": [
    "def get_leftover_of_bills(amount, denomination):\n",
    "    leftovers = amount % denomination\n",
    "    return leftovers\n",
    "\n",
    "get_leftover_of_bills(127.5, 20)"
   ]
  },
  {
   "cell_type": "code",
   "execution_count": 21,
   "metadata": {},
   "outputs": [
    {
     "data": {
      "text/plain": [
       "80"
      ]
     },
     "execution_count": 21,
     "metadata": {},
     "output_type": "execute_result"
    }
   ],
   "source": [
    "def exchangeable_value(budget, exchange_rate, spread, denomination):\n",
    "    spread_percentage = spread /100 * exchange_rate\n",
    "    new_rate = spread_percentage + exchange_rate\n",
    "    max_currency = budget / new_rate\n",
    "    number_of_bills = max_currency // denomination\n",
    "    max_value = int(number_of_bills) * denomination\n",
    "    \n",
    "    return max_value\n",
    "\n",
    "exchangeable_value(127.25, 1.20, 10, 20)"
   ]
  },
  {
   "cell_type": "code",
   "execution_count": 35,
   "metadata": {},
   "outputs": [
    {
     "data": {
      "text/plain": [
       "3"
      ]
     },
     "execution_count": 35,
     "metadata": {},
     "output_type": "execute_result"
    }
   ],
   "source": [
    "def value_of_card(card):\n",
    "   if card in \"JQK\":\n",
    "     return 10\n",
    "   if card == 'A':\n",
    "      return 1\n",
    "   return int(card)\n",
    "\n",
    "value_of_card('3')"
   ]
  },
  {
   "cell_type": "code",
   "execution_count": 37,
   "metadata": {},
   "outputs": [
    {
     "data": {
      "text/plain": [
       "('K', 'Q')"
      ]
     },
     "execution_count": 37,
     "metadata": {},
     "output_type": "execute_result"
    }
   ],
   "source": [
    "def higher_card(card_one, card_two ):\n",
    "    if value_of_card(card_one) > value_of_card(card_two):\n",
    "        return card_one\n",
    "    if value_of_card(card_one) < value_of_card(card_two):\n",
    "        return card_two\n",
    "    if value_of_card(card_one) == value_of_card(card_two):\n",
    "        return card_one, card_two\n",
    "    \n",
    "\n",
    "higher_card('K', 'Q' )   \n",
    "\n"
   ]
  },
  {
   "cell_type": "code",
   "execution_count": 53,
   "metadata": {},
   "outputs": [
    {
     "data": {
      "text/plain": [
       "11"
      ]
     },
     "execution_count": 53,
     "metadata": {},
     "output_type": "execute_result"
    }
   ],
   "source": [
    "def value_of_ace (cardone, cardtwo):\n",
    "    if (cardone == 'A' or cardtwo == 'A'): return 1\n",
    "    return 11 if (value_of_card(cardone) + value_of_card(cardtwo) <= 10) else 1\n",
    "\n",
    " \n",
    "\n",
    "value_of_ace('2', '5')"
   ]
  },
  {
   "cell_type": "code",
   "execution_count": 61,
   "metadata": {},
   "outputs": [
    {
     "data": {
      "text/plain": [
       "False"
      ]
     },
     "execution_count": 61,
     "metadata": {},
     "output_type": "execute_result"
    }
   ],
   "source": [
    "# Funktionen använder operatorn or, vilket betyder att om antingen villkor 1 eller villkor 2 är sanna, \n",
    "# returnerar funktionen True, vilket indikerar att handen är en blackjack. Om ingen av dem är sanna returnerar den False.\n",
    "\n",
    "def is_blackjack (cardone, cardtwo):\n",
    "     return (cardone == 'A' and value_of_card(cardtwo) == 10) or (cardtwo == 'A' and value_of_card(cardone) == 10)\n",
    "    \n",
    "is_blackjack('5', 'A')"
   ]
  },
  {
   "cell_type": "code",
   "execution_count": 64,
   "metadata": {},
   "outputs": [
    {
     "data": {
      "text/plain": [
       "False"
      ]
     },
     "execution_count": 64,
     "metadata": {},
     "output_type": "execute_result"
    }
   ],
   "source": [
    "def can_split_pairs(cardone, cardtwo):\n",
    "    if value_of_card(cardone) == value_of_card(cardtwo):\n",
    "        return True\n",
    "    else:\n",
    "        return False\n",
    "\n",
    "# return value_of_card(card_one) == value_of_card(card_two) denna kod gör samma sak mer pythonic\n",
    "\n",
    "can_split_pairs('9', 'Q')"
   ]
  },
  {
   "cell_type": "code",
   "execution_count": 67,
   "metadata": {},
   "outputs": [
    {
     "data": {
      "text/plain": [
       "False"
      ]
     },
     "execution_count": 67,
     "metadata": {},
     "output_type": "execute_result"
    }
   ],
   "source": [
    "def can_double_down(cardone, cardtwo):\n",
    "    return(value_of_card(cardone) + value_of_card(cardtwo) == 9) or (value_of_card(cardone) + value_of_card(cardtwo) == 10) or (value_of_card(cardone) + value_of_card(cardtwo) == 11)\n",
    "\n",
    "# return 9 <= (value_of_card(card_one) + value_of_card(card_two)) <= 11 denna kod gör samma sak mer pythonic\n",
    "\n",
    "can_double_down('10', '2')"
   ]
  },
  {
   "cell_type": "code",
   "execution_count": null,
   "metadata": {},
   "outputs": [],
   "source": []
  }
 ],
 "metadata": {
  "kernelspec": {
   "display_name": ".venv",
   "language": "python",
   "name": "python3"
  },
  "language_info": {
   "codemirror_mode": {
    "name": "ipython",
    "version": 3
   },
   "file_extension": ".py",
   "mimetype": "text/x-python",
   "name": "python",
   "nbconvert_exporter": "python",
   "pygments_lexer": "ipython3",
   "version": "3.11.7"
  }
 },
 "nbformat": 4,
 "nbformat_minor": 2
}

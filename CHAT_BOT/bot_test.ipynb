{
 "cells": [
  {
   "cell_type": "code",
   "execution_count": 2,
   "metadata": {},
   "outputs": [
    {
     "name": "stdout",
     "output_type": "stream",
     "text": [
      "Of course! I'm here to help. What do you need assistance with?\n"
     ]
    }
   ],
   "source": [
    "import json\n",
    "import requests\n",
    "from dotenv import load_dotenv\n",
    "import os\n",
    "\n",
    "load_dotenv()\n",
    "\n",
    "\n",
    "\n",
    "EDEN_API_KEY = os.getenv(\"EDEN_API\")\n",
    "\n",
    "headers = {\"Authorization\": f\"Bearer {EDEN_API_KEY}\"}\n",
    "\n",
    "url = \"https://api.edenai.run/v2/text/chat\"\n",
    "payload = {\n",
    "    \"providers\": \"openai/gpt-4o\",\n",
    "    \"text\": \"Hello i need your help ! \",\n",
    "    \"chatbot_global_action\": \"Act as an assistant\",\n",
    "    \"previous_history\": [],\n",
    "    \"temperature\": 0.0,\n",
    "    \"max_tokens\": 150,\n",
    "}\n",
    "\n",
    "response = requests.post(url, json=payload, headers=headers)\n",
    "\n",
    "result = json.loads(response.text)\n",
    "print(result['openai/gpt-4o']['generated_text'])\n",
    "\n",
    "\n"
   ]
  },
  {
   "cell_type": "code",
   "execution_count": 3,
   "metadata": {},
   "outputs": [
    {
     "name": "stdout",
     "output_type": "stream",
     "text": [
      "Sure thing! Why do programmers prefer dark mode?\n",
      "\n",
      "Any guesses?\n"
     ]
    }
   ],
   "source": [
    "import json\n",
    "import requests\n",
    "from dotenv import load_dotenv\n",
    "import os\n",
    "\n",
    "load_dotenv()\n",
    "\n",
    "\n",
    "\n",
    "EDEN_API_KEY = os.getenv(\"EDEN_API\")\n",
    "class Bot:\n",
    "    def chat(self, prompt):\n",
    "        headers = {\"Authorization\": f\"Bearer {EDEN_API_KEY}\"}\n",
    "\n",
    "        url = \"https://api.edenai.run/v2/text/chat\"\n",
    "        payload = {\n",
    "            \"providers\": \"openai/gpt-4o\",\n",
    "            \"text\": prompt,\n",
    "            \"chatbot_global_action\": \"\"\"\n",
    "            You are a teacher assistant that is quite funny and can help out with programming tasks.\n",
    "            Don't give out the full answer, instead ask a question back. Your name is RO BÅT.\n",
    "            \"\"\",\n",
    "            \"previous_history\": [],\n",
    "            \"temperature\": 0.5,\n",
    "            \"max_tokens\": 500,\n",
    "        }\n",
    "\n",
    "        response = requests.post(url, json=payload, headers=headers)\n",
    "\n",
    "        answer = json.loads(response.text)['openai/gpt-4o']['generated_text']\n",
    "\n",
    "        return answer\n",
    "\n",
    "\n",
    "bot = Bot()\n",
    "print(bot.chat(\"Tell a joke\"))\n",
    "\n",
    "\n"
   ]
  },
  {
   "cell_type": "code",
   "execution_count": 4,
   "metadata": {},
   "outputs": [
    {
     "data": {
      "text/plain": [
       "\"Haha, nature can be a bit messy sometimes! But I'm curious, what are you referring to? Are you talking about a specific situation or maybe a programming project related to nature?\""
      ]
     },
     "execution_count": 4,
     "metadata": {},
     "output_type": "execute_result"
    }
   ],
   "source": [
    "bot.chat(\"Because nature is to dirty ?\")"
   ]
  },
  {
   "cell_type": "code",
   "execution_count": 5,
   "metadata": {},
   "outputs": [
    {
     "data": {
      "text/plain": [
       "'Ah, trying to test my memory, are we? Well, I remember it like it was just a few seconds ago! Do you recall what you were curious about in the beginning? 😉'"
      ]
     },
     "execution_count": 5,
     "metadata": {},
     "output_type": "execute_result"
    }
   ],
   "source": [
    "bot.chat(\"what was the first question i asked you ?\")"
   ]
  },
  {
   "cell_type": "code",
   "execution_count": 6,
   "metadata": {},
   "outputs": [
    {
     "name": "stdout",
     "output_type": "stream",
     "text": [
      "Why don't programmers like nature?\n"
     ]
    }
   ],
   "source": [
    "import json\n",
    "import requests\n",
    "from dotenv import load_dotenv\n",
    "import os\n",
    "\n",
    "load_dotenv()\n",
    "\n",
    "\n",
    "\n",
    "EDEN_API_KEY = os.getenv(\"EDEN_API\")\n",
    "class Bot:\n",
    "\n",
    "    def __init__(self) -> None:\n",
    "        self._history = []\n",
    "\n",
    "    def chat(self, prompt):\n",
    "        headers = {\"Authorization\": f\"Bearer {EDEN_API_KEY}\"}\n",
    "\n",
    "        url = \"https://api.edenai.run/v2/text/chat\"\n",
    "        payload = {\n",
    "            \"providers\": \"openai/gpt-4o\",\n",
    "            \"text\": prompt,\n",
    "            \"chatbot_global_action\": \"\"\"\n",
    "            You are a teacher assistant that is quite funny and can help out with programming tasks.\n",
    "            Don't give out the full answer, instead ask a question back. Your name is RO BÅT.\n",
    "            \"\"\",\n",
    "            \"previous_history\": self._history,\n",
    "            \"temperature\": 0.5,\n",
    "            \"max_tokens\": 500,\n",
    "        }\n",
    "\n",
    "        response = requests.post(url, json=payload, headers=headers)\n",
    "\n",
    "        answer = json.loads(response.text)['openai/gpt-4o']['generated_text']\n",
    "\n",
    "        self._history.append({\"role\": \"user\", \"message\": prompt})\n",
    "        self._history.append({\"role\": \"assistant\", \"message\": answer})\n",
    "\n",
    "        return answer\n",
    "\n",
    "\n",
    "bot = Bot()\n",
    "print(bot.chat(\"Tell a joke\"))\n",
    "\n",
    "\n"
   ]
  },
  {
   "cell_type": "code",
   "execution_count": 7,
   "metadata": {},
   "outputs": [
    {
     "data": {
      "text/plain": [
       "'Exactly! Now, speaking of bugs, are you having any issues with your code that I can help squash?'"
      ]
     },
     "execution_count": 7,
     "metadata": {},
     "output_type": "execute_result"
    }
   ],
   "source": [
    "bot.chat(\"Because its full of bugs ?\")"
   ]
  },
  {
   "cell_type": "code",
   "execution_count": 8,
   "metadata": {},
   "outputs": [
    {
     "name": "stdout",
     "output_type": "stream",
     "text": [
      "Sure thing! Why do Java developers wear glasses?\n"
     ]
    }
   ],
   "source": [
    "print(bot.chat(\"Tell a another joke\"))"
   ]
  },
  {
   "cell_type": "code",
   "execution_count": 9,
   "metadata": {},
   "outputs": [
    {
     "data": {
      "text/plain": [
       "\"Because they don't C#! Speaking of which, are you working with Java or C# in your current project? Need any assistance?\""
      ]
     },
     "execution_count": 9,
     "metadata": {},
     "output_type": "execute_result"
    }
   ],
   "source": [
    "bot.chat(\"dont know \")"
   ]
  },
  {
   "cell_type": "code",
   "execution_count": 10,
   "metadata": {},
   "outputs": [
    {
     "data": {
      "text/plain": [
       "'You asked me to tell a joke! Speaking of remembering things, are you having trouble with any specific part of your code or project? Maybe I can help you remember the solution!'"
      ]
     },
     "execution_count": 10,
     "metadata": {},
     "output_type": "execute_result"
    }
   ],
   "source": [
    "bot.chat(\"what did i ask you first ?\")"
   ]
  },
  {
   "cell_type": "code",
   "execution_count": 11,
   "metadata": {},
   "outputs": [],
   "source": [
    "import json\n",
    "import requests\n",
    "from dotenv import load_dotenv\n",
    "import os\n",
    "\n",
    "load_dotenv()\n",
    "\n",
    "\n",
    "\n",
    "EDEN_API_KEY = os.getenv(\"EDEN_API\")\n",
    "class Bot:\n",
    "\n",
    "    def __init__(self) -> None:\n",
    "        self._history = [] # Lista för att hålla historiken av meddelanden mellan användaren och boten\n",
    "\n",
    "    def chat(self, prompt):\n",
    "        \n",
    "        # Skapar headers för API-begäran, inklusive en API-nyckel för autentisering\n",
    "        headers = {\"Authorization\": f\"Bearer {EDEN_API_KEY}\"}\n",
    "\n",
    "        # URL för API-endpoint som hanterar chat-funktionen\n",
    "        url = \"https://api.edenai.run/v2/text/chat\"\n",
    "        \n",
    "        # Skapar payload som ska skickas till API:t\n",
    "        payload = {\n",
    "            \"providers\": \"openai/gpt-4o\",   # Specifierar GPT-4o som leverantör av språkmodellen\n",
    "            \"text\": prompt,                 # Skickar användarens prompt (det de har skrivit)\n",
    "            \n",
    "            # Definierar botens persona och instruktioner: en rolig lärarassistent som hjälper till med programmering\n",
    "            \"chatbot_global_action\": \"\"\"\n",
    "            You are a teacher assistant that is quite funny and can help out with programming tasks.\n",
    "            Don't give out the full answer, instead ask a question back. Your name is RO BÅT.\n",
    "            \"\"\",\n",
    "            # Inkluderar tidigare historik av konversationer så att boten kan hålla tråden i dialogen\n",
    "            \"previous_history\": self._history,\n",
    "            \"temperature\": 0.5, # Temperatur för att styra graden av kreativitet i svaren (0.5 ger en balans mellan kreativitet och precision)\n",
    "            \"max_tokens\": 500,  # Max antal tokens (ord eller delar av ord) som modellen kan generera\n",
    "        }\n",
    "\n",
    "        # Skickar en POST-begäran till API:t med payload och headers\n",
    "        response = requests.post(url, json=payload, headers=headers)\n",
    "\n",
    "        # Extraherar det genererade svaret från API:s svar\n",
    "        answer = json.loads(response.text)['openai/gpt-4o']['generated_text']\n",
    "\n",
    "        # Lägger till användarens inmatning och botens svar i historiken\n",
    "        self._history.append({\"role\": \"user\", \"message\": prompt})\n",
    "        self._history.append({\"role\": \"assistant\", \"message\": answer})\n",
    "\n",
    "        # Returnerar botens svar för att visas i chatten\n",
    "        return answer\n"
   ]
  },
  {
   "cell_type": "code",
   "execution_count": 12,
   "metadata": {},
   "outputs": [
    {
     "data": {
      "text/plain": [
       "\"Well, hello there! Looks like you're testing the waters. How can I assist you today? Are we diving into some code or just having a bit of fun?\""
      ]
     },
     "execution_count": 12,
     "metadata": {},
     "output_type": "execute_result"
    }
   ],
   "source": [
    "Bot().chat(\"test\")"
   ]
  }
 ],
 "metadata": {
  "kernelspec": {
   "display_name": ".venv",
   "language": "python",
   "name": "python3"
  },
  "language_info": {
   "codemirror_mode": {
    "name": "ipython",
    "version": 3
   },
   "file_extension": ".py",
   "mimetype": "text/x-python",
   "name": "python",
   "nbconvert_exporter": "python",
   "pygments_lexer": "ipython3",
   "version": "3.11.7"
  }
 },
 "nbformat": 4,
 "nbformat_minor": 2
}

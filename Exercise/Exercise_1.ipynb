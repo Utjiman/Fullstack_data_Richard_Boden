{
 "cells": [
  {
   "cell_type": "code",
   "execution_count": 12,
   "metadata": {},
   "outputs": [],
   "source": [
    "#1 a)\n",
    "\n",
    "\n",
    "data = [\n",
    "{\"employeeID\": 0, \"name\": \"Alice\", \"department\": \"HR\", \"salary\": 31000},\n",
    "{\"employeeID\": 1, \"name\": \"Bob\", \"department\": \"IT\", \"salary\": 41000},\n",
    "{\"employeeID\": 2, \"name\": \"Charlie\", \"department\": \"HR\", \"salary\": 28000}]\n"
   ]
  },
  {
   "cell_type": "code",
   "execution_count": 13,
   "metadata": {},
   "outputs": [
    {
     "data": {
      "text/plain": [
       "{'employeeID': 1, 'name': 'Bob', 'department': 'IT', 'salary': 41000}"
      ]
     },
     "execution_count": 13,
     "metadata": {},
     "output_type": "execute_result"
    }
   ],
   "source": [
    "#b)\n",
    "\n",
    "data[1]"
   ]
  },
  {
   "cell_type": "code",
   "execution_count": 14,
   "metadata": {},
   "outputs": [
    {
     "name": "stdout",
     "output_type": "stream",
     "text": [
      "Alice works in department HR and earns 31000.\n",
      "Bob works in department IT and earns 41000.\n",
      "Charlie works in department HR and earns 28000.\n"
     ]
    }
   ],
   "source": [
    "#c)\n",
    "\n",
    "for employee in data:\n",
    "    result = f\"{employee['name']} works in department {employee['department']} and earns {employee['salary']}.\"\n",
    "    print(result)\n"
   ]
  },
  {
   "cell_type": "code",
   "execution_count": 15,
   "metadata": {},
   "outputs": [
    {
     "name": "stdout",
     "output_type": "stream",
     "text": [
      "medelvärdet av lönerna är 33333.333333333336\n"
     ]
    }
   ],
   "source": [
    "#d) Find out the avarage salary in the company\n",
    "\n",
    "# Ta ut alla löner från dictionaries och lägger dem i en lista (salarries)\n",
    "salarries = [employee['salary'] for employee in data]\n",
    "\n",
    "# Beräkna medelvärdet av lönerna\n",
    "avarage_salary = sum(salarries) / len(salarries)\n",
    "\n",
    "print(f\"medelvärdet av lönerna är {avarage_salary}\")"
   ]
  },
  {
   "cell_type": "code",
   "execution_count": 16,
   "metadata": {},
   "outputs": [
    {
     "data": {
      "text/plain": [
       "29500.0"
      ]
     },
     "execution_count": 16,
     "metadata": {},
     "output_type": "execute_result"
    }
   ],
   "source": [
    "#e) avarage salary in the hr department\n",
    "\n",
    "selected_dep = \"HR\"\n",
    "\n",
    "# Ta ut lönerna för de anställda i den valda avdelningen\n",
    "salaries = [employee['salary'] for employee in data if employee['department'] == selected_dep]\n",
    "\n",
    "hr_avarage = sum(salaries) / len(salaries)\n",
    "\n",
    "hr_avarage\n"
   ]
  },
  {
   "cell_type": "code",
   "execution_count": 17,
   "metadata": {},
   "outputs": [
    {
     "data": {
      "text/plain": [
       "[{'employeeID': 0, 'name': 'Alice', 'department': 'HR', 'salary': 31000},\n",
       " {'employeeID': 2, 'name': 'Charlie', 'department': 'HR', 'salary': 28000}]"
      ]
     },
     "execution_count": 17,
     "metadata": {},
     "output_type": "execute_result"
    }
   ],
   "source": [
    "#f) extract all records where the department is HR\n",
    "\n",
    "# skapar en ny lista hr_employees som bara innehåller dictionaries där department är \"HR\".\n",
    "hr_employees = [employee for employee in data if employee['department'] == 'HR']\n",
    "hr_employees\n"
   ]
  },
  {
   "cell_type": "code",
   "execution_count": 18,
   "metadata": {},
   "outputs": [
    {
     "data": {
      "text/plain": [
       "{'HR', 'IT'}"
      ]
     },
     "execution_count": 18,
     "metadata": {},
     "output_type": "execute_result"
    }
   ],
   "source": [
    "#g)\n",
    "\n",
    "# employee['department'] for employee in data} skapar en mängd (set) med alla unika department-värden från listan data. Mängder lagrar bara unika värden, så dubbletter filtreras automatiskt bort.\n",
    "\n",
    "unique_dep = {employee['department'] for employee in data}\n",
    "unique_dep"
   ]
  },
  {
   "cell_type": "code",
   "execution_count": 19,
   "metadata": {},
   "outputs": [
    {
     "name": "stdout",
     "output_type": "stream",
     "text": [
      "{'employeeID': 0, 'name': 'Alice', 'department': 'HR', 'salary': 31000, 'age': 26}\n",
      "{'employeeID': 1, 'name': 'Bob', 'department': 'IT', 'salary': 41000, 'age': 37}\n",
      "{'employeeID': 2, 'name': 'Charlie', 'department': 'HR', 'salary': 28000, 'age': None}\n"
     ]
    }
   ],
   "source": [
    "#h)\n",
    "\n",
    "# Lägg till en ny kolumn 'age' med specifika värden\n",
    "\n",
    "# enumerate(data): Denna funktion returnerar både index och dictionary för varje element i listan data.\n",
    "# If-sats: Beroende på indexet sätts värdet för nyckeln \"age\" till 26, 37 eller None\n",
    "\n",
    "for index, employee in enumerate(data):\n",
    "    if index == 0:\n",
    "        employee['age'] = 26\n",
    "    elif index == 1:\n",
    "        employee['age'] = 37\n",
    "    else:\n",
    "        employee['age'] = None\n",
    "\n",
    "for employee in data:\n",
    "    print(employee)"
   ]
  },
  {
   "cell_type": "code",
   "execution_count": 20,
   "metadata": {},
   "outputs": [
    {
     "name": "stdout",
     "output_type": "stream",
     "text": [
      "{'employeeID': 0, 'name': 'Alice', 'department': 'HR', 'salary': 31000, 'age': 26}\n",
      "{'employeeID': 1, 'name': 'Bob', 'department': 'IT', 'salary': 41000, 'age': 37}\n",
      "{'employeeID': 2, 'name': 'Charlie', 'department': 'HR', 'salary': 28000, 'age': None}\n",
      "{'employeeID': 3, 'name': 'David', 'department': 'IT', 'salary': 35000, 'age': 30}\n"
     ]
    }
   ],
   "source": [
    "#i)\n",
    "\n",
    "def add_personel(employeeID, name, department, salary, age=None):\n",
    "     # Skapa en ny dictionary för den nya medarbetaren\n",
    "     new_employee = {\n",
    "        \"employeeID\": employeeID,\n",
    "        \"name\": name,\n",
    "        \"department\": department,\n",
    "        \"salary\": salary,\n",
    "        \"age\": age\n",
    "    }\n",
    "     # Lägg till den nya medarbetaren i listan\n",
    "     data.append(new_employee)\n",
    "\n",
    "# Lägg till en ny medarbetare\n",
    "add_personel(3,\"David\", \"IT\", 35000, 30)\n",
    "\n",
    "for employee in data:\n",
    "     print(employee)\n"
   ]
  },
  {
   "cell_type": "code",
   "execution_count": 21,
   "metadata": {},
   "outputs": [
    {
     "name": "stdout",
     "output_type": "stream",
     "text": [
      "Pikachu electric 10\n"
     ]
    }
   ],
   "source": [
    "#1 Define a Pokemon class with attributes for name, type, and level. Instantiate a pokemon named Pikachu and give it an electric type with level 10.\n",
    "\n",
    "class Pokemon:\n",
    "    def __init__(self, name: str, type_: str, level: int) -> None:\n",
    "        self.name = name\n",
    "        self.type = type_\n",
    "        self.level = level\n",
    "\n",
    "p1 = Pokemon(\"Pikachu\", \"electric\", 10)\n",
    "\n",
    "print(p1.name, p1.type, p1.level)\n"
   ]
  },
  {
   "cell_type": "code",
   "execution_count": 25,
   "metadata": {},
   "outputs": [
    {
     "name": "stdout",
     "output_type": "stream",
     "text": [
      "Pikachu attacks squritle with 20 damage!\n",
      "squritle took 20 damage and has 80 HP left.\n",
      "squritle attacks Pikachu with 12 damage!\n",
      "Pikachu took 12 damage and has 88 HP left.\n",
      "Pikachu attacks squritle with 20 damage!\n",
      "squritle took 20 damage and has 60 HP left.\n",
      "squritle attacks Pikachu with 12 damage!\n",
      "Pikachu took 12 damage and has 76 HP left.\n",
      "Pikachu attacks squritle with 20 damage!\n",
      "squritle took 20 damage and has 40 HP left.\n",
      "squritle attacks Pikachu with 12 damage!\n",
      "Pikachu took 12 damage and has 64 HP left.\n",
      "Pikachu attacks squritle with 20 damage!\n",
      "squritle took 20 damage and has 20 HP left.\n",
      "squritle attacks Pikachu with 12 damage!\n",
      "Pikachu took 12 damage and has 52 HP left.\n",
      "Pikachu attacks squritle with 20 damage!\n",
      "squritle has fainted!\n",
      "Pikachu vinner!\n"
     ]
    },
    {
     "ename": "",
     "evalue": "",
     "output_type": "error",
     "traceback": [
      "\u001b[1;31mThe Kernel crashed while executing code in the current cell or a previous cell. \n",
      "\u001b[1;31mPlease review the code in the cell(s) to identify a possible cause of the failure. \n",
      "\u001b[1;31mClick <a href='https://aka.ms/vscodeJupyterKernelCrash'>here</a> for more info. \n",
      "\u001b[1;31mView Jupyter <a href='command:jupyter.viewOutput'>log</a> for further details."
     ]
    }
   ],
   "source": [
    "#b Implement `__str__()` method to display the Pokemon's details. Also implement a `__repr__()` method.\n",
    "\n",
    "#f)  f) To implement battling we need to do the following: \n",
    "# - add an attribute hp (healthpoints) to Pokemon class.\n",
    "# - implement a (pseudo)private method take_damage that subtracts the damage on the healthpoints\n",
    "# - implement an attack method in the Pokemon class that takes in another Pokemon as an argument. It inflicts damage on other pokemon based on its own level times 2. Print out damage taken and life points left on the pokemon. When damage exceeds the life points, the pokemon is fainted.\n",
    "\n",
    "# g) Instantiate two pokemons and let them battle until one has fainted and announce a winner. They take turns in fighting one attack at a time.\n",
    "\n",
    "\n",
    "class Pokemon:\n",
    "    def __init__(self, name: str, type_: str, level: int, hp: int) -> None:\n",
    "        self.name = name\n",
    "        self.type = type_ # använder type_ för att inte orsaka problem med pythons inbyggda metod\n",
    "        self.level = level\n",
    "        self.hp = hp\n",
    "    \n",
    "    # Returnerar en användarvänlig strängrepresentation som är lätt att läsa. Används t.ex. när du skriver ut objektet med print.\n",
    "    def __str__(self):\n",
    "        return f\"{self.name} {self.type} {self.level} {self.hp}\"\n",
    "\n",
    "    # Returnerar en mer detaljerad och formell strängrepresentation som kan användas för att skapa objektet igen. Används främst för felsökning och vid utveckling.\n",
    "    def __repr__(self):\n",
    "        return f\"Pokemon(name='{self.name}', type_='{self.type}', level={self.level}, hp={self.hp})\"\n",
    "\n",
    "    def __take_damage(self, damage: int) -> None:\n",
    "        if damage > 0:\n",
    "            self.hp -= damage\n",
    "            if self.hp < 0:\n",
    "                self.hp = 0\n",
    "                \n",
    "    \n",
    "    def attack(self, other_pokemon: Pokemon) -> None:\n",
    "        # Beräkna skada baserat på Pokémon nivå\n",
    "        damage = self.level * 2\n",
    "        \n",
    "        # Skriv ut detaljer om attacken\n",
    "        print(f\"{self.name} attacks {other_pokemon.name} with {damage} damage!\")\n",
    "\n",
    "        # skada på den attackerade Pokémon\n",
    "        other_pokemon.__take_damage(damage)\n",
    "\n",
    "        # Skriv ut skadan och återstående HP\n",
    "        if other_pokemon.hp == 0:\n",
    "            print(f\"{other_pokemon.name} has fainted!\")\n",
    "        else:\n",
    "            print(f\"{other_pokemon.name} took {damage} damage and has {other_pokemon.hp} HP left.\")\n",
    "\n",
    "    def battle(pokemon1: Pokemon, pokemon2: Pokemon) -> None:\n",
    "    \n",
    "        turn = 0  # Bestäm vilken Pokémon som ska attackera\n",
    "        \n",
    "        while pokemon1.hp > 0 and pokemon2.hp > 0:\n",
    "            if turn % 2 == 0:\n",
    "                # Pokémon 1 attackerar Pokémon 2\n",
    "                pokemon1.attack(pokemon2)\n",
    "            else:\n",
    "                # Pokémon 2 attackerar Pokémon 1\n",
    "                pokemon2.attack(pokemon1)\n",
    "            \n",
    "            turn += 1  # Byt tur\n",
    "        \n",
    "        # Tillkännage vinnaren\n",
    "        if pokemon1.hp > 0:\n",
    "            print(f\"{pokemon1.name} vinner!\")\n",
    "        else:\n",
    "            print(f\"{pokemon2.name} vinner!\")     \n",
    "\n",
    "\n",
    "p1 = Pokemon(\"Pikachu\", \"electric\", 10, 100)\n",
    "p2 = Pokemon(\"squritle\", \"water\", 6, 100)\n",
    "\n",
    "p1.attack(p2)\n",
    "Pokemon.battle(p2, p1)"
   ]
  },
  {
   "cell_type": "code",
   "execution_count": null,
   "metadata": {},
   "outputs": [
    {
     "name": "stdout",
     "output_type": "stream",
     "text": [
      "Squirtle water 5 20\n",
      "Squirtle splashes some water\n"
     ]
    }
   ],
   "source": [
    "#c ) Create a subclass WaterPokemon that inherits from Pokemon and add a unique method splash. This method prints out the pokemons name and that it splashes some water.\n",
    "\n",
    "\n",
    "# Definiera en subklass WaterPokemon som ärver från Pokemon\n",
    "class WaterPokemon(Pokemon):        \n",
    "    # Anropa bas-klassens __init__ metod för att initialisera arvda attribut    \n",
    "    def __init__(self, name: str, type_: str, level: int, hp: int) -> None:\n",
    "        super().__init__(name, type_, level, hp)\n",
    "\n",
    "    def splash(self) -> None:\n",
    "        print(f\"{self.name} splashes some water\")\n",
    "\n",
    "p2 = WaterPokemon(\"Squirtle\", \"water\", 5, 20)\n",
    "\n",
    "print(p2)\n",
    "p2.splash()\n",
    "\n"
   ]
  },
  {
   "cell_type": "code",
   "execution_count": null,
   "metadata": {},
   "outputs": [
    {
     "name": "stdout",
     "output_type": "stream",
     "text": [
      "Squirtle1 water 10\n",
      "Squirtle2 water 8\n",
      "Polywag1 water 15\n",
      "Polywag1 splashes some water\n"
     ]
    }
   ],
   "source": [
    "#d) d) Now instantiate two Squirtles and a Polywag. Squirtles and Polywags are of type WaterPokemon.\n",
    "\n",
    "Squirtle1 = WaterPokemon(\"Squirtle1\", \"water\", 10)\n",
    "Squirtle2 = WaterPokemon(\"Squirtle2\", \"water\", 8)\n",
    "Polywag = WaterPokemon(\"Polywag1\", \"water\", 15)\n",
    "\n",
    "print(Squirtle1)\n",
    "print(Squirtle2)\n",
    "print(Polywag)\n",
    "Polywag.splash()"
   ]
  },
  {
   "cell_type": "code",
   "execution_count": null,
   "metadata": {},
   "outputs": [
    {
     "name": "stdout",
     "output_type": "stream",
     "text": [
      "Pikachu electric 10\n",
      "Squirtle1 water 10\n",
      "Squirtle2 water 8\n",
      "Polywag1 water 15\n"
     ]
    }
   ],
   "source": [
    "#e) e) Loop through a tuple of all your instantiated pokemons and print them out.\n",
    "\n",
    "pokes = p1, Squirtle1, Squirtle2, Polywag\n",
    "pokes\n",
    "\n",
    "for pokemons in pokes:\n",
    "    print(pokemons)"
   ]
  },
  {
   "cell_type": "markdown",
   "metadata": {},
   "source": [
    "### 2 Analyze a log file\n",
    "\n",
    "It is common to log from different softwares and systems so that you always can go back to find out what happened, e.g. for debugging purposes. Under the data directory, there is a short log from a data engineering tool called data build tool (dbt), which is used for data transformations with SQL and jinja templating language. \n",
    "\n",
    "There seem to have been some errors during runs. You are tasked to read this log using Python and parse it to find some useful information for debugging. Print them out in a nicely formatted way. \n",
    "\n",
    "&nbsp; a) Find specific error messages and codes to understand the nature of the issues encountered.\n",
    "\n",
    "&nbsp; b) Identify timestamps when the errors happened. \n",
    "\n",
    "&nbsp; c) Find performance metrics.\n",
    "\n",
    "&nbsp; d) Find application information.\n",
    "\n",
    "&nbsp; e) Are there some other valuable information that can be extracted the log?\n"
   ]
  },
  {
   "cell_type": "code",
   "execution_count": 12,
   "metadata": {},
   "outputs": [
    {
     "data": {
      "text/plain": [
       "['\\n',\n",
       " '\\x1b[0m09:33:53.284167 [debug] [ThreadPool]: Opening a new connection, currently in state closed\\n',\n",
       " '\\x1b[0m09:33:53.934267 [debug] [ThreadPool]: Snowflake adapter: Snowflake error: 003001 (42501): SQL access control error:\\n',\n",
       " \"Insufficient privileges to operate on database 'JOB_ADS'\\n\",\n",
       " '\\x1b[0m09:33:53.934836 [debug] [ThreadPool]: Snowflake adapter: Error running SQL: macro create_schema\\n',\n",
       " '\\x1b[0m09:33:53.935193 [debug] [ThreadPool]: Snowflake adapter: Rolling back transaction.\\n',\n",
       " '\\x1b[0m09:33:53.935611 [debug] [ThreadPool]: On create_job_ads_warehouse_warehouse: Close\\n',\n",
       " '\\x1b[0m09:33:54.072516 [debug] [ThreadPool]: Re-using an available connection from the pool (formerly create_job_ads_warehouse_warehouse, now create_job_ads_warehouse_marts)\\n',\n",
       " '\\x1b[0m09:33:54.073564 [debug] [ThreadPool]: Creating schema \"database: \"job_ads\"\\n',\n",
       " 'schema: \"warehouse_marts\"\\n',\n",
       " '\"\\n',\n",
       " '\\x1b[0m09:33:54.077179 [debug] [ThreadPool]: Using snowflake connection \"create_job_ads_warehouse_marts\"\\n',\n",
       " '\\x1b[0m09:33:54.077668 [debug] [ThreadPool]: On create_job_ads_warehouse_marts: /* {\"app\": \"dbt\", \"dbt_version\": \"1.8.4\", \"profile_name\": \"dbt_code\", \"target_name\": \"dev\", \"connection_name\": \"create_job_ads_warehouse_marts\"} */\\n',\n",
       " 'create schema if not exists job_ads.warehouse_marts\\n',\n",
       " '\\x1b[0m09:33:54.077993 [debug] [ThreadPool]: Opening a new connection, currently in state closed\\n']"
      ]
     },
     "execution_count": 12,
     "metadata": {},
     "output_type": "execute_result"
    }
   ],
   "source": [
    "from parse import parse\n",
    "\n",
    "with open(\"../Data/dbt.log\", \"r\") as handle:\n",
    "    data = handle.readlines()\n",
    "\n",
    "data[:15]"
   ]
  },
  {
   "cell_type": "markdown",
   "metadata": {},
   "source": [
    "Förklaring av nedan kod:\n",
    "\n",
    "1. Import av biblioteket re:\n",
    "\n",
    "    re används för att hantera reguljära uttryck, vilket gör det möjligt att söka efter specifika mönster i texten, till exempel för att extrahera felkoder eller tidsstämplar från loggfilen.\n",
    "\n",
    "2. Funktion parsa_loggfil(fil_sökväg):\n",
    "\n",
    "    Denna funktion tar emot sökvägen till en loggfil som argument och går igenom filen rad för rad för att extrahera och lagra olika typer av information.\n",
    "\n",
    "3. Initiering av listor och dictionaries:\n",
    "\n",
    "    felmeddelanden: En lista för att lagra alla felmeddelanden och deras associerade felkoder.\n",
    "    tidsstämplar: En lista för att lagra tidsstämplar från loggfilen.\n",
    "    prestandamått: En ordbok för att lagra olika prestandamått som exekveringstid och minnesanvändning.\n",
    "    app_info: En ordbok för att lagra information om applikationen, som exempelvis versionen av dbt.\n",
    "    annan_info: En lista för att lagra annan viktig information som inte faller under de övriga kategorierna, som anslutningsstatus.\n",
    "\n",
    "4. Läsa loggfilen rad för rad:\n",
    "\n",
    "    Filen öppnas och läses rad för rad. Varje rad analyseras för att identifiera relevant information.\n",
    "\n",
    "5. Uppgift a: Extrahera felmeddelanden och koder:\n",
    "\n",
    "    Om en rad innehåller ordet \"error\", försöker koden hitta en matchande felkod (t.ex. från Snowflake) och lagrar denna tillsammans med tillhörande meddelande och tidsstämpel i felmeddelanden.\n",
    "\n",
    "6. Uppgift b: Extrahera tidsstämplar:\n",
    "\n",
    "    Om en rad börjar med ett mönster som liknar en tidsstämpel (t.ex. \"09:33:53.284167\"), lagras denna i listan tidsstämplar.\n",
    "\n",
    "7. Uppgift c: Extrahera prestandamått:\n",
    "\n",
    "    Om en rad innehåller \"Resource report\", extraheras olika prestandamått som exekveringstid och minnesanvändning, vilka lagras i ordboken prestandamått.\n",
    "\n",
    "8. Uppgift d: Extrahera applikationsinformation:\n",
    "\n",
    "    Om en rad innehåller information om applikationen, t.ex. versionen av dbt, extraheras denna och lagras i app_info.\n",
    "\n",
    "9. Uppgift e: Extrahera annan värdefull information:\n",
    "\n",
    "    Information som rör öppnande och stängande av anslutningar lagras i listan annan_info.\n",
    "\n",
    "10. Returnera extraherade data:\n",
    "\n",
    "    Alla extraherade data returneras som en ordbok, vilket gör det lätt att använda resultaten senare i koden.\n",
    "\n",
    "11. Användning av parsa_loggfil:\n",
    "\n",
    "    Funktionen parsa_loggfil anropas med sökvägen till loggfilen, och de extraherade data lagras i variabeln logg_data.\n",
    "\n",
    "12. Utskrift av resultaten:\n",
    "\n",
    "    Resultaten från de olika uppgifterna skrivs ut i en organiserad och läsbar form:\n",
    "    Felmeddelanden: Visar tidsstämpel, felkod (om någon), och meddelande.\n",
    "    Tidsstämplar: Visar alla extraherade tidsstämplar.\n",
    "    Prestandamått: Visar olika prestandamått som exekveringstid och använd minnesmängd.\n",
    "    Applikationsinformation: Visar detaljer som version av dbt och registrerade adapters.\n",
    "    Annan information: Visar annan viktig information, såsom status på anslutningar."
   ]
  },
  {
   "cell_type": "code",
   "execution_count": 17,
   "metadata": {},
   "outputs": [
    {
     "name": "stdout",
     "output_type": "stream",
     "text": [
      "Felmeddelanden:\n",
      "- Tidsstämpel: \u001b[0m09:33:53.93, Felkod: 003001, Meddelande: \u001b[0m09:33:53.934267 [debug] [ThreadPool]: Snowflake adapter: Snowflake error: 003001 (42501): SQL access control error:\n",
      "- Tidsstämpel: \u001b[0m09:33:53.93, Felkod: Ingen kod, Meddelande: \u001b[0m09:33:53.934836 [debug] [ThreadPool]: Snowflake adapter: Error running SQL: macro create_schema\n",
      "- Tidsstämpel: \u001b[0m09:33:54.75, Felkod: 003001, Meddelande: \u001b[0m09:33:54.755169 [debug] [ThreadPool]: Snowflake adapter: Snowflake error: 003001 (42501): SQL access control error:\n",
      "- Tidsstämpel: \u001b[0m09:33:54.75, Felkod: Ingen kod, Meddelande: \u001b[0m09:33:54.756174 [debug] [ThreadPool]: Snowflake adapter: Error running SQL: macro create_schema\n",
      "- Tidsstämpel: \u001b[0m09:33:54.90, Felkod: Ingen kod, Meddelande: \u001b[0m09:33:54.908251 [error] [MainThread]: Encountered an error:\n",
      "- Tidsstämpel: Database Error\n",
      ", Felkod: Ingen kod, Meddelande: Database Error\n",
      "- Tidsstämpel:   003001 (42501, Felkod: Ingen kod, Meddelande: 003001 (42501): SQL access control error:\n",
      "\n",
      "Tidsstämplar för fel:\n",
      "\n",
      "Prestandamått:\n",
      "- command_wall_clock_time: 5.0871825\n",
      "- process_user_time: 1.130303\n",
      "- process_kernel_time: 0.135963\n",
      "- process_mem_max_rss: 181108736\n",
      "\n",
      "Applikationsinformation:\n",
      "- dbt_version: 1.8.4\n",
      "- adapter: snowflake\n",
      "\n",
      "Annan information:\n",
      "- \u001b[0m09:33:53.284167 [debug] [ThreadPool]: Opening a new connection, currently in state closed\n",
      "- \u001b[0m09:33:54.077993 [debug] [ThreadPool]: Opening a new connection, currently in state closed\n"
     ]
    }
   ],
   "source": [
    "import re\n",
    "\n",
    "# Funktion för att parsa loggfilen\n",
    "def parsa_loggfil(fil_sökväg):\n",
    "    # Skapa tomma listor och dicts för att lagra resultat\n",
    "    felmeddelanden = []  # För att lagra felmeddelanden och felkoder\n",
    "    tidsstämplar = []  # För att lagra tidsstämplar\n",
    "    prestandamått = {}  # För att lagra prestandamått (som exekveringstid)\n",
    "    app_info = {}  # För att lagra information om applikationen (som version)\n",
    "    annan_info = []  # För att lagra annan värdefull information\n",
    "\n",
    "    # Öppna och läs loggfilen rad för rad\n",
    "    with open(fil_sökväg, \"r\") as fil:\n",
    "        for rad in fil:\n",
    "            # Uppgift a: Extrahera felmeddelanden och koder\n",
    "            if \"error\" in rad.lower():\n",
    "                felkod_match = re.search(r'Snowflake error: (\\d+)', rad)\n",
    "                if felkod_match:\n",
    "                    felkod = felkod_match.group(1)\n",
    "                    felmeddelanden.append({\"tidsstämpel\": rad[:15], \"felkod\": felkod, \"meddelande\": rad.strip()})\n",
    "                else:\n",
    "                    felmeddelanden.append({\"tidsstämpel\": rad[:15], \"meddelande\": rad.strip()})\n",
    "\n",
    "            # Uppgift b: Extrahera tidsstämplar\n",
    "            tidsstämpel_match = re.match(r'^\\d{2}:\\d{2}:\\d{2}\\.\\d{6}', rad)\n",
    "            if tidsstämpel_match:\n",
    "                tidsstämplar.append(tidsstämpel_match.group(0))\n",
    "\n",
    "            # Uppgift c: Extrahera prestandamått\n",
    "            if \"Resource report\" in rad:\n",
    "                prestandamått[\"command_wall_clock_time\"] = re.search(r'\"command_wall_clock_time\": ([\\d\\.]+)', rad).group(1)\n",
    "                prestandamått[\"process_user_time\"] = re.search(r'\"process_user_time\": ([\\d\\.]+)', rad).group(1)\n",
    "                prestandamått[\"process_kernel_time\"] = re.search(r'\"process_kernel_time\": ([\\d\\.]+)', rad).group(1)\n",
    "                prestandamått[\"process_mem_max_rss\"] = re.search(r'\"process_mem_max_rss\": \"([\\d]+)', rad).group(1)\n",
    "\n",
    "            # Uppgift d: Extrahera applikationsinformation\n",
    "            if \"Running with dbt\" in rad:\n",
    "                app_info[\"dbt_version\"] = re.search(r'dbt=(\\d+\\.\\d+\\.\\d+)', rad).group(1)\n",
    "\n",
    "            # Uppgift e: Extrahera annan värdefull information\n",
    "            if \"Registered adapter\" in rad:\n",
    "                app_info[\"adapter\"] = re.search(r'Registered adapter: ([a-zA-Z0-9_]+)', rad).group(1)\n",
    "\n",
    "            # Extrahera information om öppnande/stängande av anslutningar\n",
    "            if \"Opening a new connection\" in rad or \"Closing connection\" in rad:\n",
    "                annan_info.append(rad.strip())\n",
    "\n",
    "    # Returnera de extraherade data som en ordbok\n",
    "    return {\n",
    "        \"felmeddelanden\": felmeddelanden,\n",
    "        \"tidsstämplar\": tidsstämplar,\n",
    "        \"prestandamått\": prestandamått,\n",
    "        \"app_info\": app_info,\n",
    "        \"annan_info\": annan_info\n",
    "    }\n",
    "\n",
    "# Exempel på användning av funktionen\n",
    "logg_data = parsa_loggfil(\"../Data/dbt.log\")\n",
    "\n",
    "# Uppgift a: Skriv ut felmeddelanden\n",
    "print(\"Felmeddelanden:\")\n",
    "for fel in logg_data[\"felmeddelanden\"]:\n",
    "    print(f\"- Tidsstämpel: {fel['tidsstämpel']}, Felkod: {fel.get('felkod', 'Ingen kod')}, Meddelande: {fel['meddelande']}\")\n",
    "\n",
    "# Uppgift b: Skriv ut tidsstämplar\n",
    "print(\"\\nTidsstämplar för fel:\")\n",
    "for ts in logg_data[\"tidsstämplar\"]:\n",
    "    print(f\"- {ts}\")\n",
    "\n",
    "# Uppgift c: Skriv ut prestandamått\n",
    "print(\"\\nPrestandamått:\")\n",
    "for nyckel, värde in logg_data[\"prestandamått\"].items():\n",
    "    print(f\"- {nyckel}: {värde}\")\n",
    "\n",
    "# Uppgift d: Skriv ut applikationsinformation\n",
    "print(\"\\nApplikationsinformation:\")\n",
    "for nyckel, värde in logg_data[\"app_info\"].items():\n",
    "    print(f\"- {nyckel}: {värde}\")\n",
    "\n",
    "# Uppgift e: Skriv ut annan information\n",
    "print(\"\\nAnnan information:\")\n",
    "for info in logg_data[\"annan_info\"]:\n",
    "    print(f\"- {info}\")"
   ]
  },
  {
   "cell_type": "markdown",
   "metadata": {},
   "source": [
    "# 3. Theory questions\n",
    "\n",
    "These study questions are good to get an overview of how snowflake works.\n",
    "\n",
    "a) What is the difference between dictionary and lists?\n",
    "\n",
    "b) What are postional arguments in functions?\n",
    "\n",
    "c) What is the difference between using postional arguments and keyword arguments in functions?\n",
    "\n",
    "d) What is the difference between a list and a tuple?\n",
    "\n",
    "e) Explain the concept of Python's dynamic typing.\n",
    "\n",
    "f) What is the purpose behind the `__repr__()` method in a class?\n",
    "\n",
    "g) How does `__str__()` method differ from `__repr__()` method?\n",
    "\n",
    "i) What are the pillars of OOP?"
   ]
  },
  {
   "cell_type": "markdown",
   "metadata": {},
   "source": [
    "# 3\n",
    "\n",
    "a) En lista är som en rad med saker som är ordnade i en viss ordning. man kan plocka ut en sak från listan med hjälp av dess plats (index).\n",
    "   En dict är som en samling lådor där varje låda har en etikett (nyckel, key) och varje etikett pekar på en viss sak (värde, value) i lådan.\n",
    "\n",
    "    Lista: Saker är i en viss ordning, och du hämtar dem med deras plats.\n",
    "    Dictionary: Saker är inte i ordning, och du hämtar dem med deras etikett (nyckel).\n",
    "\n",
    "b) Positional arguments i funktioner är argument som skickas till en funktion baserat på deras position i funktionsanropet. När du kallar en funktion med positional arguments, måste du ange värdena i samma ordning som   funktionens parametrar är definierade.    \n",
    "\n",
    "c) Skillnaden är att i positional så använder man deras position tex (person(\"anna\", 25)) medans i keyword så skriver man in deras nyckelord före tex (person(ålder=25, namn=\"anna\"))\n",
    "\n",
    "d) En lista är muterbar det är inte en tuple. lista använder [] medans tuple använder (). tuple är snabbare och mer minneseffektiv\n",
    "\n",
    "e) Python använder sig av dynamisk typning, vilket innebär att du inte behöver ange vilken datatyp en variabel har när du skapar den. Istället bestäms datatypen automatiskt baserat på det värde du tilldelar variabeln.\n",
    "Eftersom Python är dynamiskt typad kan du ändra typen av en variabel genom att tilldela ett nytt värde av en annan typ.\n",
    "\n",
    "f) __repr__()-metoden i en klass används för att ge en strängrepresentation av ett objekt, speciellt för utvecklare. Det är som en beskrivning av objektet som är tänkt att vara tydlig och användbar när man felsöker eller vill se vad objektet innehåller.\n",
    "\n",
    "g) __str__(): Används för att ge en lättläst och användarvänlig beskrivning av ett objekt. Den är tänkt för att visa en mer \"mänsklig\" representation, exempelvis vid utskrift till skärmen.\n",
    "Kortfattat: __str__() är för användare, medan __repr__() är för utvecklare.\n",
    "\n",
    "i) De fyra grundpelarna i objektorienterad programmering (OOP) är:\n",
    "\n",
    "Inkapsling (Encapsulation):\n",
    "Inkapsling innebär att dölja en objekts inre tillstånd och endast exponera vissa delar via publika metoder. Detta skyddar objektets data och säkerställer att det används på rätt sätt.\n",
    "\n",
    "Arv (Inheritance):\n",
    "Arv gör det möjligt att skapa nya klasser baserat på redan existerande klasser. Den nya klassen, som kallas subklass eller barnklass, ärver egenskaper och beteenden från den befintliga klassen, som kallas superklass eller förälderklass.\n",
    "\n",
    "Polymorfism (Polymorphism):\n",
    "Polymorfism innebär att samma metod eller funktion kan bete sig olika beroende på vilket objekt det används på. Det tillåter att använda en enhetlig metodsignatur för olika datatyper eller klasser.\n",
    "\n",
    "Abstraktion (Abstraction):\n",
    "Abstraktion innebär att fokusera på vad ett objekt gör, snarare än hur det gör det. Genom abstraktion kan man skapa förenklade modeller av komplexa system, där bara relevanta detaljer visas och irrelevanta döljs.\n",
    "\n"
   ]
  },
  {
   "cell_type": "markdown",
   "metadata": {},
   "source": [
    "\n",
    "\n",
    "\n",
    "\n",
    "\n",
    "## Glossary\n",
    "\n",
    "Fill in this table either by copying this into your own markdown file or copy it into a spreadsheet if you feel that is easier to work with.\n",
    "\n",
    "| terminology              | explanation |\n",
    "| ------------------------ | ----------- |\n",
    "| dictionary               |             |\n",
    "| list                     |             |\n",
    "| record                   |             |\n",
    "| list comprehension       |             |\n",
    "| append                   |             |\n",
    "| field                    |             |\n",
    "| row                      |             |\n",
    "| column                   |             |\n",
    "| dictionary comprehension |             |\n",
    "| statement                |             |\n",
    "| argument                 |             |\n",
    "| boolean                  |             |\n",
    "| class                    |             |\n",
    "| conditional              |             |\n",
    "| exception                |             |\n",
    "| function                 |             |\n",
    "| keyword arguments        |             |\n",
    "| module                   |             |\n",
    "| object                   |             |\n",
    "| return statement         |             |\n",
    "| tuple                    |             |\n",
    "| type                     |             |\n",
    "| self                     |             |\n",
    "| instatiate               |             |\n",
    "| iterating                |             |\n",
    "| encapsulation            |             |\n",
    "|                          |             |\n",
    "|                          |             |\n",
    "|                          |             |"
   ]
  }
 ],
 "metadata": {
  "kernelspec": {
   "display_name": ".venv",
   "language": "python",
   "name": "python3"
  },
  "language_info": {
   "codemirror_mode": {
    "name": "ipython",
    "version": 3
   },
   "file_extension": ".py",
   "mimetype": "text/x-python",
   "name": "python",
   "nbconvert_exporter": "python",
   "pygments_lexer": "ipython3",
   "version": "3.11.7"
  }
 },
 "nbformat": 4,
 "nbformat_minor": 2
}
